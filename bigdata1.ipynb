{
  "nbformat": 4,
  "nbformat_minor": 0,
  "metadata": {
    "colab": {
      "name": "Untitled0.ipynb",
      "provenance": []
    },
    "kernelspec": {
      "name": "python3",
      "display_name": "Python 3"
    }
  },
  "cells": [
    {
      "cell_type": "code",
      "metadata": {
        "id": "Up8IJL39ewbR"
      },
      "source": [
        "!apt-get install openjdk-8-jdk-headless -qq > /dev/null\n",
        "!wget -q https://www-us.apache.org/dist/spark/spark-2.4.5/spark-2.4.5-bin-hadoop2.7.tgz\n",
        "!tar xf /content/spark-2.4.5-bin-hadoop2.7.tgz\n",
        "!pip install -q findspark"
      ],
      "execution_count": null,
      "outputs": []
    },
    {
      "cell_type": "code",
      "metadata": {
        "id": "giEuewEdm14p"
      },
      "source": [
        "import os\n",
        "os.environ[\"JAVA_HOME\"] = \"/usr/lib/jvm/java-8-openjdk-amd64\"\n",
        "os.environ[\"SPARK_HOME\"] = \"/content/spark-2.4.5-bin-hadoop2.7\""
      ],
      "execution_count": null,
      "outputs": []
    },
    {
      "cell_type": "code",
      "metadata": {
        "id": "-9dvBYjrnH5_"
      },
      "source": [
        "import findspark\n",
        "findspark.init()"
      ],
      "execution_count": null,
      "outputs": []
    },
    {
      "cell_type": "code",
      "metadata": {
        "id": "euqWGxSBniut"
      },
      "source": [
        "from pyspark.sql import SparkSession\n",
        "from pyspark.sql.functions import when\n",
        "from pyspark.ml.feature import VectorAssembler, StandardScaler\n",
        "from pyspark.ml.classification import LogisticRegression\n",
        "from pyspark.ml.evaluation import BinaryClassificationEvaluator"
      ],
      "execution_count": null,
      "outputs": []
    },
    {
      "cell_type": "code",
      "metadata": {
        "id": "GMxDOkKi3lbn"
      },
      "source": [
        "def transform_data(data):\n",
        "  data = data.withColumn(\"Education Level\", when(data[\"Education Level\"] == \"Low\", 0).when(data[\"Education Level\"] == \"Intermediate\", 1).otherwise(2))\n",
        "  data = data.withColumn(\"Married\", when(data[\"Married\"] == \"Yes\", 0).otherwise(1))\n",
        "  data = data.withColumn(\"Depressed\", when(data[\"Depressed\"] == \"Yes\", 0).otherwise(1))\n",
        "\n",
        "  cols = data.columns\n",
        "  cols.remove(\"Depressed\")\n",
        "  data = VectorAssembler(inputCols=cols, outputCol=\"Features\").transform(data)\n",
        "\n",
        "  scaler = StandardScaler(inputCol=\"Features\", outputCol=\"Scaler_Features\")\n",
        "  data = scaler.fit(data).transform(data)\n",
        "\n",
        "  return data"
      ],
      "execution_count": null,
      "outputs": []
    },
    {
      "cell_type": "code",
      "metadata": {
        "id": "kcnKWTvHnsZ-"
      },
      "source": [
        "spark = SparkSession.builder.getOrCreate()"
      ],
      "execution_count": null,
      "outputs": []
    },
    {
      "cell_type": "code",
      "metadata": {
        "id": "OWSFmp73n1uj"
      },
      "source": [
        "train_data = spark.read.option(\"inferSchema\", \"true\").csv(\"Classification_Train.csv\", header=True)\n",
        "test_data = spark.read.option(\"inferSchema\", \"true\").csv(\"Classification_Test.csv\", header=True)"
      ],
      "execution_count": null,
      "outputs": []
    },
    {
      "cell_type": "code",
      "metadata": {
        "id": "yxyVnMkj2foL",
        "colab": {
          "base_uri": "https://localhost:8080/",
          "height": 260
        },
        "outputId": "c25c9ebf-7cff-4cd3-c0f1-9280827a3a85"
      },
      "source": [
        "print(train_data.toPandas())"
      ],
      "execution_count": null,
      "outputs": [
        {
          "output_type": "stream",
          "text": [
            "                      Name  Gender  Height  ... Married Salary Income Depressed\n",
            "0            Sax Tesseyman  Female     174  ...     Yes      85000000        No\n",
            "1              Niels Greet    Male     165  ...      No      14000000        No\n",
            "2           Minetta Santry  Female     160  ...      No     148000000       Yes\n",
            "3           Sherm Gossipin  Female     144  ...      No      50000000       Yes\n",
            "4         Cathie Blackmuir    Male     168  ...     Yes     101000000        No\n",
            "...                    ...     ...     ...  ...     ...           ...       ...\n",
            "9995  Dorotea Sonnenschein  Female     162  ...      No     104000000        No\n",
            "9996        Nevile Alecock  Female     162  ...      No      51000000       Yes\n",
            "9997           Arleta Epps  Female     165  ...      No      25000000       Yes\n",
            "9998      Moyna Leftbridge    Male     165  ...      No      56000000       Yes\n",
            "9999     Rosemaria Elleray  Female     152  ...     Yes      31000000        No\n",
            "\n",
            "[10000 rows x 8 columns]\n"
          ],
          "name": "stdout"
        }
      ]
    },
    {
      "cell_type": "code",
      "metadata": {
        "id": "-qOvzzvP1lOE"
      },
      "source": [
        "train_data = train_data.select(\"Education Level\", \"Married\", \"Salary Income\", \"Depressed\")\n",
        "test_data = train_data.select(\"Education Level\", \"Married\", \"Salary Income\", \"Depressed\")"
      ],
      "execution_count": null,
      "outputs": []
    },
    {
      "cell_type": "code",
      "metadata": {
        "id": "K953qcSY2s-J"
      },
      "source": [
        "train_data = train_data.na.drop()\n",
        "test_data = test_data.na.drop()"
      ],
      "execution_count": null,
      "outputs": []
    },
    {
      "cell_type": "code",
      "metadata": {
        "id": "7puoD1wO54-E"
      },
      "source": [
        "train_data = transform_data(train_data)\n",
        "test_data = transform_data(test_data)"
      ],
      "execution_count": null,
      "outputs": []
    },
    {
      "cell_type": "code",
      "metadata": {
        "id": "xCGvmg6262v3"
      },
      "source": [
        "model = LogisticRegression(featuresCol=\"Scaler_Features\", labelCol=\"Depressed\", maxIter=10).fit(train_data)"
      ],
      "execution_count": null,
      "outputs": []
    },
    {
      "cell_type": "code",
      "metadata": {
        "id": "bKMAsbhi7LAA"
      },
      "source": [
        "prediction = model.transform(test_data)"
      ],
      "execution_count": null,
      "outputs": []
    },
    {
      "cell_type": "code",
      "metadata": {
        "id": "HLpvu2Ao7YSK",
        "colab": {
          "base_uri": "https://localhost:8080/",
          "height": 260
        },
        "outputId": "69c48307-558b-46cf-d99a-cbf44dec2a5f"
      },
      "source": [
        "print(prediction.toPandas())"
      ],
      "execution_count": null,
      "outputs": [
        {
          "output_type": "stream",
          "text": [
            "      Education Level  ...  prediction\n",
            "0                   1  ...         1.0\n",
            "1                   1  ...         0.0\n",
            "2                   0  ...         0.0\n",
            "3                   2  ...         0.0\n",
            "4                   1  ...         1.0\n",
            "...               ...  ...         ...\n",
            "9995                1  ...         0.0\n",
            "9996                1  ...         0.0\n",
            "9997                2  ...         0.0\n",
            "9998                0  ...         0.0\n",
            "9999                0  ...         1.0\n",
            "\n",
            "[10000 rows x 9 columns]\n"
          ],
          "name": "stdout"
        }
      ]
    },
    {
      "cell_type": "code",
      "metadata": {
        "id": "-VcN-mSE76ID"
      },
      "source": [
        "evaluator = BinaryClassificationEvaluator(labelCol=\"Depressed\")"
      ],
      "execution_count": null,
      "outputs": []
    },
    {
      "cell_type": "code",
      "metadata": {
        "id": "spnSzjAt8XR4",
        "colab": {
          "base_uri": "https://localhost:8080/",
          "height": 35
        },
        "outputId": "481b729d-f495-4854-eb49-7634d378d5dd"
      },
      "source": [
        "print(\"Accuracy : {}\".format(evaluator.evaluate(prediction)))"
      ],
      "execution_count": null,
      "outputs": [
        {
          "output_type": "stream",
          "text": [
            "Accuracy : 0.8809802485148361\n"
          ],
          "name": "stdout"
        }
      ]
    }
  ]
}